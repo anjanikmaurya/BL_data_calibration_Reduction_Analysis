{
 "cells": [
  {
   "attachments": {},
   "cell_type": "markdown",
   "id": "cd943755",
   "metadata": {},
   "source": [
    "# convert .raw to cbf file for beamline 1-5"
   ]
  },
  {
   "attachments": {},
   "cell_type": "markdown",
   "id": "5ca3ff05",
   "metadata": {},
   "source": [
    "#!/usr/bin/env python3\n",
    " -*- coding: utf-8 -*-\n",
    "\"\"\"\n",
    "Created on Fri Apr 21 19:29:58 2023\n",
    "\n",
    "@author: akmaurya\n",
    "\"\"\"\n"
   ]
  },
  {
   "cell_type": "code",
   "execution_count": null,
   "id": "45d85109",
   "metadata": {},
   "outputs": [],
   "source": [
    "import fabio\n",
    "import numpy as np\n",
    "import matplotlib.pyplot as plt\n",
    "from matplotlib.colors import LogNorm\n",
    "import os\n",
    "\n",
    "# Define the file path of the raw file\n",
    "file_path = r'X:\\bl1-5\\Anjani\\Methanolysis\\Dec2023\\Standards\\WAXS\\b_tassone_Lab6_rock1mm_run75_loop0__scan1_0000.raw'\n",
    "\n",
    "# Read the raw file and reshape the data\n",
    "data = np.fromfile(file_path, dtype=np.int32).reshape( 195,487)\n",
    "\n",
    "# Convert the data to Pilatus file format using FabIO\n",
    "pilatus_image = fabio.edfimage.EdfImage(data, header={'ByteOrder': 'LowByteFirst',\n",
    "                                                      'DataType': 'UnsignedInteger',\n",
    "                                                      'Dim_1': 195,\n",
    "                                                      'Dim_2': 487,\n",
    "                                                      'Image': 'image'})\n",
    "\n",
    "# Define output file name\n",
    "output_filename = 'Lab6_output_image.cbf'\n",
    "output_folder = os.path.dirname(output_filename)\n",
    "output_path = os.path.join(output_folder, output_filename)\n",
    "\n",
    "# Save the Pilatus file\n",
    "pilatus_image.write(output_path, force_type=None)\n",
    "\n",
    "# Print the folder where the CBF image is saved\n",
    "print(f\"CBF image saved in: {output_folder}\")\n",
    "\n",
    "# Customize title\n",
    "plot_title = f'Pilatus 100k Image - {output_filename}'\n",
    "\n",
    "# Display the image using matplotlib with hot colormap and intensity in log-log scale\n",
    "plt.imshow(data, cmap='hot', norm=LogNorm())\n",
    "plt.title(plot_title)\n",
    "plt.colorbar()\n",
    "plt.show()\n"
   ]
  },
  {
   "cell_type": "code",
   "execution_count": null,
   "id": "065ad714",
   "metadata": {},
   "outputs": [],
   "source": []
  },
  {
   "cell_type": "code",
   "execution_count": null,
   "id": "ee97da9b",
   "metadata": {},
   "outputs": [],
   "source": []
  }
 ],
 "metadata": {
  "kernelspec": {
   "display_name": "Python 3 (ipykernel)",
   "language": "python",
   "name": "python3"
  },
  "language_info": {
   "codemirror_mode": {
    "name": "ipython",
    "version": 3
   },
   "file_extension": ".py",
   "mimetype": "text/x-python",
   "name": "python",
   "nbconvert_exporter": "python",
   "pygments_lexer": "ipython3",
   "version": "3.11.4"
  }
 },
 "nbformat": 4,
 "nbformat_minor": 5
}
