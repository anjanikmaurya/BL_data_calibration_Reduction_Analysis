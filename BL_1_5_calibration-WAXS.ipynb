{
 "cells": [
  {
   "cell_type": "code",
   "execution_count": null,
   "id": "09391817",
   "metadata": {},
   "outputs": [],
   "source": [
    "%matplotlib inline\n",
    "import os\n",
    "import time\n",
    "from matplotlib.pyplot import subplots\n",
    "from pyFAI.gui import jupyter\n",
    "import pyFAI\n",
    "import fabio\n",
    "from pyFAI.test.utilstest import UtilsTest\n",
    "from pyFAI.calibrant import CALIBRANT_FACTORY\n",
    "from pyFAI.goniometer import SingleGeometry\n",
    "print(f\"Using pyFAI version: {pyFAI.version}\")\n",
    "start_time = time.perf_counter()"
   ]
  },
  {
   "cell_type": "markdown",
   "id": "34aedb55",
   "metadata": {},
   "source": [
    "# read folder"
   ]
  },
  {
   "cell_type": "code",
   "execution_count": null,
   "id": "a8402cc2",
   "metadata": {},
   "outputs": [],
   "source": [
    "folder_path = r'C:Users\\b_tassone\\Desktop\\Anjani\\Python\\Data_Reduction\\Convert_and_calibrate'\n",
    "\n",
    "# Loop through all files in the folder\n",
    "\n",
    "filename = 'Lab6_output_image.cbf'\n",
    "# Open the cbs file and read the image data\n",
    "frame = fabio.open(filename).data\n",
    "# Do something with the image data here\n",
    "\n",
    "# and now display the image\n",
    "ax = jupyter.display(frame)\n",
    "print (filename)"
   ]
  },
  {
   "cell_type": "code",
   "execution_count": null,
   "id": "9db73a0b",
   "metadata": {},
   "outputs": [],
   "source": [
    "# This allow to measure approximatively the position of the beam center ...\n",
    "x = 600 # x-coordinate of the beam-center in pixels\n",
    "y = 100 # y-coordinate of the beam-center in pixels\n",
    "d = 150 # This is the distance in mm (unit used by Fit2d)\n",
    "wl = 0.826565e-10 # Equivalent to 15 keV \n",
    "tilt = 25 "
   ]
  },
  {
   "cell_type": "code",
   "execution_count": null,
   "id": "f9b8ecb6",
   "metadata": {},
   "outputs": [],
   "source": [
    "import pyFAI\n",
    "\n",
    "# Definition of the detector and of the calibrant:\n",
    "pilatus = pyFAI.detector_factory(\"Pilatus100k\")\n",
    "calibrant = pyFAI.calibrant.CALIBRANT_FACTORY(\"LaB6\")\n",
    "calibrant.wavelength = wl  # You need to define 'wl' before using it\n"
   ]
  },
  {
   "cell_type": "code",
   "execution_count": null,
   "id": "cad7458d",
   "metadata": {},
   "outputs": [],
   "source": [
    "# Set the guessed geometry\n",
    "initial = pyFAI.geometry.Geometry(detector=pilatus, wavelength=wl)\n",
    "initial.setFit2D(d,x,y,tilt)\n",
    "initial"
   ]
  },
  {
   "cell_type": "code",
   "execution_count": null,
   "id": "6a21bd02",
   "metadata": {},
   "outputs": [],
   "source": [
    "# The SingleGeometry object (from goniometer) allows to extract automatically ring and calibrate\n",
    "sg = SingleGeometry(filename, frame, calibrant=calibrant, detector=pilatus, geometry=initial)\n",
    "sg.extract_cp(max_rings=1)"
   ]
  },
  {
   "cell_type": "code",
   "execution_count": null,
   "id": "e2859451",
   "metadata": {},
   "outputs": [],
   "source": [
    "#Control point and rings do not overlap well initially (this was a guessed geometry)\n",
    "ax = jupyter.display(sg=sg)"
   ]
  },
  {
   "cell_type": "code",
   "execution_count": null,
   "id": "726f2e88",
   "metadata": {},
   "outputs": [],
   "source": [
    "# Refine the geometry ... here in SAXS geometry, the rotation is fixed in orthogonal setup\n",
    "sg.geometry_refinement.refine2(fix=[\"rot1\", \"rot2\", \"rot3\", \"wavelength\"])\n",
    "sg.get_ai()"
   ]
  },
  {
   "cell_type": "code",
   "execution_count": null,
   "id": "12f70ddf",
   "metadata": {},
   "outputs": [],
   "source": [
    "ax = jupyter.display(sg=sg)"
   ]
  },
  {
   "cell_type": "code",
   "execution_count": null,
   "id": "a2e9c7b1",
   "metadata": {},
   "outputs": [],
   "source": [
    "#Save the geometry obtained\n",
    "sg.geometry_refinement.save(\"Autoxidation_august_2023.poni\")\n",
    "with open(\"Autoxidation_august_2023.poni\") as f:\n",
    "    print(f.read())"
   ]
  },
  {
   "cell_type": "code",
   "execution_count": null,
   "id": "be57da9f",
   "metadata": {},
   "outputs": [],
   "source": [
    "#Use the geometry to perform an azimuthal integration\n",
    "ai = sg.get_ai()\n",
    "res = ai.integrate1d(frame, 1000)\n",
    "ax = jupyter.plot1d(res,calibrant=behenate)\n",
    "#ax = jupyter.plot1d(res, calibrant=behenate) \n",
    "ax.set_xlim([0.5, 3])\n",
    "ax.set_ylim([0, 200])\n",
    "#plt.semilogy(res.radial, res.intensity, label=filename)"
   ]
  },
  {
   "cell_type": "code",
   "execution_count": null,
   "id": "0006f6fc",
   "metadata": {},
   "outputs": [],
   "source": []
  },
  {
   "cell_type": "code",
   "execution_count": null,
   "id": "29101d1b",
   "metadata": {},
   "outputs": [],
   "source": []
  }
 ],
 "metadata": {
  "kernelspec": {
   "display_name": "Python 3 (ipykernel)",
   "language": "python",
   "name": "python3"
  },
  "language_info": {
   "codemirror_mode": {
    "name": "ipython",
    "version": 3
   },
   "file_extension": ".py",
   "mimetype": "text/x-python",
   "name": "python",
   "nbconvert_exporter": "python",
   "pygments_lexer": "ipython3",
   "version": "3.11.4"
  }
 },
 "nbformat": 4,
 "nbformat_minor": 5
}
